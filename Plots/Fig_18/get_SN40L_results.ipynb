{
 "cells": [
  {
   "cell_type": "code",
   "execution_count": null,
   "id": "ce6e6f7c",
   "metadata": {},
   "outputs": [],
   "source": []
  },
  {
   "cell_type": "code",
   "execution_count": null,
   "id": "b1432d29",
   "metadata": {},
   "outputs": [],
   "source": [
    "\n",
    "\n",
    "file_name = \"SN40L_updated_results.csv\"\n",
    "\n",
    "\n",
    "\n"
   ]
  },
  {
   "cell_type": "code",
   "execution_count": 11,
   "id": "35cfc93b",
   "metadata": {},
   "outputs": [],
   "source": [
    "import csv\n",
    "\n",
    "def read_csv_without_header(csv_file):\n",
    "    with open(csv_file, \"r\", newline=\"\") as f:\n",
    "        reader = csv.reader(f)\n",
    "        next(reader)\n",
    "\n",
    "        rows = []\n",
    "        for row in reader:\n",
    "            rows.append(row)\n",
    "    return rows\n",
    "\n",
    "\n",
    "def get_matching_row(hardware, numhardware, framework, network, inp_out, batch):\n",
    "    csv_file = \"../SN40L_updated_results.csv\"\n",
    "    rows = read_csv_without_header(csv_file)\n",
    "    \n",
    "    for row in rows:\n",
    "        if row != []:\n",
    "            Hardware = str(row[0]) \n",
    "            Num_of_Hardware = int(row[1])\n",
    "            Framework = str(row[2])\n",
    "            Model = str(row[3])\n",
    "            Input_Output_Length = int(row[4]) \n",
    "            Batch_Size = int(row[5])\n",
    "            Throughput = float(row[6])\n",
    "            \n",
    "            \n",
    "            if Hardware == hardware:\n",
    "                if Num_of_Hardware == numhardware:\n",
    "                    if Framework == framework:\n",
    "                        if Model == network:\n",
    "                            if Input_Output_Length == inp_out:\n",
    "                                if Batch_Size == batch:\n",
    "                                    latency = float((batch*(Input_Output_Length + Input_Output_Length))/Throughput)\n",
    "                                    \n",
    "                                    list_1 = [Hardware,Num_of_Hardware,Framework,Model,Input_Output_Length,Batch_Size,latency,Throughput]\n",
    "                                    \n",
    "                                    with open(\"SN40L_latency_throughput.csv\", 'a', newline = '') as csvfile:\n",
    "                                        writer = csv.writer(csvfile)\n",
    "                                        writer.writerow(list_1) \n",
    "                        \n",
    "                                    csvfile.close()\n",
    "                                    \n",
    "def get_data_rows():\n",
    "    \n",
    "    for framework in [\"sambaflow\"]:\n",
    "        for hardware in [\"SambaNova SN40L\"]:\n",
    "            for network in [\"meta-llama/Meta-Llama-3-70B\"]:\n",
    "                inp_out_list = []\n",
    "                for inp_out in [128, 256, 512, 1024, 2048]:\n",
    "                    for numhardware in [8]:\n",
    "                        for batch in [1,16]:\n",
    "                            get_matching_row(hardware, numhardware, framework, network, inp_out, batch)\n",
    "get_data_rows()                            "
   ]
  },
  {
   "cell_type": "code",
   "execution_count": null,
   "id": "97aab62d",
   "metadata": {},
   "outputs": [],
   "source": []
  },
  {
   "cell_type": "code",
   "execution_count": null,
   "id": "fbf08689",
   "metadata": {},
   "outputs": [],
   "source": []
  },
  {
   "cell_type": "code",
   "execution_count": null,
   "id": "103697c9",
   "metadata": {},
   "outputs": [],
   "source": []
  },
  {
   "cell_type": "code",
   "execution_count": null,
   "id": "9bf8c083",
   "metadata": {},
   "outputs": [],
   "source": []
  },
  {
   "cell_type": "code",
   "execution_count": null,
   "id": "7a35ca51",
   "metadata": {},
   "outputs": [],
   "source": []
  },
  {
   "cell_type": "code",
   "execution_count": null,
   "id": "1cfc74dc",
   "metadata": {},
   "outputs": [],
   "source": []
  }
 ],
 "metadata": {
  "kernelspec": {
   "display_name": "Python 3 (ipykernel)",
   "language": "python",
   "name": "python3"
  },
  "language_info": {
   "codemirror_mode": {
    "name": "ipython",
    "version": 3
   },
   "file_extension": ".py",
   "mimetype": "text/x-python",
   "name": "python",
   "nbconvert_exporter": "python",
   "pygments_lexer": "ipython3",
   "version": "3.11.5"
  }
 },
 "nbformat": 4,
 "nbformat_minor": 5
}
